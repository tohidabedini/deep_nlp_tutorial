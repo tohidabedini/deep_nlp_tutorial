{
 "cells": [
  {
   "cell_type": "markdown",
   "metadata": {},
   "source": [
    "# RNN classifier"
   ]
  },
  {
   "cell_type": "markdown",
   "metadata": {},
   "source": [
    "Classify IMDB reviews by their sentiment with an RNN"
   ]
  },
  {
   "cell_type": "markdown",
   "metadata": {},
   "source": [
    "#### Load dependencies"
   ]
  },
  {
   "cell_type": "code",
   "execution_count": 1,
   "metadata": {
    "scrolled": true
   },
   "outputs": [
    {
     "name": "stderr",
     "output_type": "stream",
     "text": [
      "Using TensorFlow backend.\n"
     ]
    }
   ],
   "source": [
    "import keras\n",
    "from keras.datasets import imdb\n",
    "from keras.preprocessing.sequence import pad_sequences\n",
    "from keras.models import Sequential\n",
    "from keras.layers import Dense,Flatten,Dropout\n",
    "from keras.layers import SpatialDropout1D\n",
    "from keras.layers import SimpleRNN\n",
    "from keras.layers import Embedding\n",
    "from keras.callbacks import ModelCheckpoint\n",
    "import os\n",
    "from sklearn.metrics import roc_auc_score\n",
    "import matplotlib.pyplot as plt\n",
    "%matplotlib inline"
   ]
  },
  {
   "cell_type": "markdown",
   "metadata": {},
   "source": [
    "#### Set hyperparameters"
   ]
  },
  {
   "cell_type": "code",
   "execution_count": 2,
   "metadata": {},
   "outputs": [],
   "source": [
    "output_dir = 'model_output/rnn'\n",
    "\n",
    "epochs = 16\n",
    "batch_size = 128\n",
    "\n",
    "n_dim = 64\n",
    "n_unique_words = 10000\n",
    "max_review_length = 100\n",
    "pad_type = trunc_type = 'pre'\n",
    "drop_embed = 0.2\n",
    "\n",
    "n_rnn = 256\n",
    "drop_rnn = 0.2\n",
    "\n",
    "# n_dense = 256\n",
    "# dropout = 0.2"
   ]
  },
  {
   "cell_type": "markdown",
   "metadata": {},
   "source": [
    "#### Load data"
   ]
  },
  {
   "cell_type": "code",
   "execution_count": 3,
   "metadata": {},
   "outputs": [],
   "source": [
    "(x_train, y_train) , (x_valid, y_valid) = imdb.load_data(num_words = n_unique_words )"
   ]
  },
  {
   "cell_type": "markdown",
   "metadata": {},
   "source": [
    "#### Preprocess data"
   ]
  },
  {
   "cell_type": "code",
   "execution_count": 4,
   "metadata": {},
   "outputs": [],
   "source": [
    "x_train = pad_sequences(x_train,maxlen=max_review_length,padding=pad_type,truncating=trunc_type,value=0)\n",
    "x_valid = pad_sequences(x_valid,maxlen=max_review_length,padding=pad_type,truncating=trunc_type,value=0)"
   ]
  },
  {
   "cell_type": "markdown",
   "metadata": {},
   "source": [
    "#### Design NN architecture"
   ]
  },
  {
   "cell_type": "code",
   "execution_count": 6,
   "metadata": {},
   "outputs": [],
   "source": [
    "model = Sequential()\n",
    "model.add(Embedding(n_unique_words,n_dim,input_length=max_review_length))\n",
    "model.add(SpatialDropout1D(drop_embed))\n",
    "model.add(SimpleRNN(n_rnn,dropout=drop_rnn))\n",
    "model.add(Dense(1,activation='sigmoid'))"
   ]
  },
  {
   "cell_type": "code",
   "execution_count": 7,
   "metadata": {},
   "outputs": [
    {
     "name": "stdout",
     "output_type": "stream",
     "text": [
      "_________________________________________________________________\n",
      "Layer (type)                 Output Shape              Param #   \n",
      "=================================================================\n",
      "embedding_2 (Embedding)      (None, 100, 64)           640000    \n",
      "_________________________________________________________________\n",
      "spatial_dropout1d_2 (Spatial (None, 100, 64)           0         \n",
      "_________________________________________________________________\n",
      "simple_rnn_2 (SimpleRNN)     (None, 256)               82176     \n",
      "_________________________________________________________________\n",
      "dense_2 (Dense)              (None, 1)                 257       \n",
      "=================================================================\n",
      "Total params: 722,433\n",
      "Trainable params: 722,433\n",
      "Non-trainable params: 0\n",
      "_________________________________________________________________\n"
     ]
    }
   ],
   "source": [
    "model.summary()"
   ]
  },
  {
   "cell_type": "markdown",
   "metadata": {},
   "source": [
    "#### Configure model"
   ]
  },
  {
   "cell_type": "code",
   "execution_count": 8,
   "metadata": {},
   "outputs": [],
   "source": [
    "model.compile(loss='binary_crossentropy', optimizer='adam',metrics=['accuracy'])"
   ]
  },
  {
   "cell_type": "code",
   "execution_count": 9,
   "metadata": {},
   "outputs": [],
   "source": [
    "modelcheckpoint = ModelCheckpoint(filepath=output_dir+'/weights.{epoch:02d}.hdf5')\n",
    "if not os.path.exists(output_dir):\n",
    "    os.makedirs(output_dir)"
   ]
  },
  {
   "cell_type": "markdown",
   "metadata": {},
   "source": [
    "#### Train!"
   ]
  },
  {
   "cell_type": "code",
   "execution_count": 10,
   "metadata": {},
   "outputs": [
    {
     "name": "stdout",
     "output_type": "stream",
     "text": [
      "Train on 25000 samples, validate on 25000 samples\n",
      "Epoch 1/16\n",
      "25000/25000 [==============================] - 76s 3ms/step - loss: 0.6822 - acc: 0.5488 - val_loss: 0.6742 - val_acc: 0.5609\n",
      "Epoch 2/16\n",
      "25000/25000 [==============================] - 74s 3ms/step - loss: 0.6739 - acc: 0.5852 - val_loss: 0.6759 - val_acc: 0.5572\n",
      "Epoch 3/16\n",
      "25000/25000 [==============================] - 72s 3ms/step - loss: 0.6620 - acc: 0.5994 - val_loss: 0.6685 - val_acc: 0.5742\n",
      "Epoch 4/16\n",
      "25000/25000 [==============================] - 70s 3ms/step - loss: 0.5994 - acc: 0.6744 - val_loss: 0.6268 - val_acc: 0.6433\n",
      "Epoch 5/16\n",
      "25000/25000 [==============================] - 70s 3ms/step - loss: 0.5356 - acc: 0.7300 - val_loss: 0.5838 - val_acc: 0.6989\n",
      "Epoch 6/16\n",
      "25000/25000 [==============================] - 70s 3ms/step - loss: 0.4843 - acc: 0.7702 - val_loss: 0.6027 - val_acc: 0.7106\n",
      "Epoch 7/16\n",
      "25000/25000 [==============================] - 70s 3ms/step - loss: 0.4516 - acc: 0.7922 - val_loss: 0.6067 - val_acc: 0.7096\n",
      "Epoch 8/16\n",
      "25000/25000 [==============================] - 70s 3ms/step - loss: 0.4139 - acc: 0.8189 - val_loss: 0.6121 - val_acc: 0.7201\n",
      "Epoch 9/16\n",
      "25000/25000 [==============================] - 73s 3ms/step - loss: 0.4701 - acc: 0.7723 - val_loss: 0.6282 - val_acc: 0.6982\n",
      "Epoch 10/16\n",
      "25000/25000 [==============================] - 70s 3ms/step - loss: 0.4387 - acc: 0.7954 - val_loss: 0.6380 - val_acc: 0.6447\n",
      "Epoch 11/16\n",
      "25000/25000 [==============================] - 70s 3ms/step - loss: 0.4369 - acc: 0.7936 - val_loss: 0.6285 - val_acc: 0.7060\n",
      "Epoch 12/16\n",
      "25000/25000 [==============================] - 70s 3ms/step - loss: 0.4107 - acc: 0.8122 - val_loss: 0.6759 - val_acc: 0.6347\n",
      "Epoch 13/16\n",
      "25000/25000 [==============================] - 70s 3ms/step - loss: 0.3806 - acc: 0.8332 - val_loss: 0.6586 - val_acc: 0.7003\n",
      "Epoch 14/16\n",
      "25000/25000 [==============================] - 70s 3ms/step - loss: 0.3762 - acc: 0.8410 - val_loss: 0.6755 - val_acc: 0.6965\n",
      "Epoch 15/16\n",
      "25000/25000 [==============================] - 70s 3ms/step - loss: 0.3779 - acc: 0.8318 - val_loss: 0.7385 - val_acc: 0.6776\n",
      "Epoch 16/16\n",
      "25000/25000 [==============================] - 70s 3ms/step - loss: 0.3461 - acc: 0.8527 - val_loss: 0.6823 - val_acc: 0.7134\n"
     ]
    },
    {
     "data": {
      "text/plain": [
       "<keras.callbacks.History at 0x23c91afca58>"
      ]
     },
     "execution_count": 10,
     "metadata": {},
     "output_type": "execute_result"
    }
   ],
   "source": [
    "model.fit(x_train,y_train,batch_size=batch_size,epochs=epochs,verbose=1,validation_data=(x_valid,y_valid),callbacks=[modelcheckpoint])"
   ]
  },
  {
   "cell_type": "markdown",
   "metadata": {},
   "source": [
    "#### Evaluate"
   ]
  },
  {
   "cell_type": "code",
   "execution_count": 18,
   "metadata": {},
   "outputs": [],
   "source": [
    "model.load_weights(output_dir+'/weights.08.hdf5')"
   ]
  },
  {
   "cell_type": "code",
   "execution_count": 19,
   "metadata": {},
   "outputs": [],
   "source": [
    "y_hat = model.predict_proba(x_valid)"
   ]
  },
  {
   "cell_type": "code",
   "execution_count": 20,
   "metadata": {},
   "outputs": [
    {
     "data": {
      "image/png": "[encoded data removed]",
      "text/plain": [
       "<Figure size 432x288 with 1 Axes>"
      ]
     },
     "metadata": {
      "needs_background": "light"
     },
     "output_type": "display_data"
    }
   ],
   "source": [
    "plt.hist(y_hat)\n",
    "_ = plt.axvline(x=0.5,color='orange')"
   ]
  },
  {
   "cell_type": "code",
   "execution_count": 21,
   "metadata": {},
   "outputs": [],
   "source": [
    "pct_auc = roc_auc_score(y_valid,y_hat)*100.0"
   ]
  },
  {
   "cell_type": "code",
   "execution_count": 22,
   "metadata": {},
   "outputs": [
    {
     "data": {
      "text/plain": [
       "'78.09'"
      ]
     },
     "execution_count": 22,
     "metadata": {},
     "output_type": "execute_result"
    }
   ],
   "source": [
    "\"{:0.2f}\".format(pct_auc)"
   ]
  }
 ],
 "metadata": {
  "kernelspec": {
   "display_name": "Python 3",
   "language": "python",
   "name": "python3"
  },
  "language_info": {
   "codemirror_mode": {
    "name": "ipython",
    "version": 3
   },
   "file_extension": ".py",
   "mimetype": "text/x-python",
   "name": "python",
   "nbconvert_exporter": "python",
   "pygments_lexer": "ipython3",
   "version": "3.5.6"
  }
 },
 "nbformat": 4,
 "nbformat_minor": 2
}
